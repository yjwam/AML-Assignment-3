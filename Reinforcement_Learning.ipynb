{
 "cells": [
  {
   "cell_type": "code",
   "execution_count": 1,
   "id": "00ac7410",
   "metadata": {},
   "outputs": [],
   "source": [
    "import numpy as np\n",
    "import pandas as pd\n",
    "import os\n",
    "import matplotlib.pyplot as plt\n",
    "from matplotlib.colors import ListedColormap\n",
    "from matplotlib.patches import Rectangle\n",
    "import itertools\n",
    "from tqdm import tqdm\n",
    "import random\n",
    "\n",
    "import Environment\n",
    "import Agent\n",
    "%matplotlib inline"
   ]
  },
  {
   "cell_type": "code",
   "execution_count": 2,
   "id": "77eeea3a",
   "metadata": {},
   "outputs": [],
   "source": [
    "#Function which determines if car hits when it moves from state one to state two or not\n",
    "def hit_obstacle(race, state, new_state):\n",
    "    x_a, y_a = state\n",
    "    x_b, y_b = new_state\n",
    "\n",
    "    if x_a > x_b:\n",
    "        min_x, max_x = x_b, x_a\n",
    "    else:\n",
    "        min_x, max_x = x_a, x_b\n",
    "\n",
    "    if y_a > y_b: \n",
    "        min_y, max_y = y_b, y_a\n",
    "    else:\n",
    "        min_y, max_y = y_a, y_b\n",
    "\n",
    "    dx = (max_x - min_x) + 1\n",
    "    dy = (max_y - min_y) + 1\n",
    "    temp = race.track[min_x:(min_x + dx),min_y:(min_y+dy)]\n",
    "\n",
    "    for elem in temp.flatten():\n",
    "        if elem==2:\n",
    "            return True\n",
    "    return False"
   ]
  },
  {
   "cell_type": "code",
   "execution_count": 3,
   "id": "3bf05cb8",
   "metadata": {},
   "outputs": [],
   "source": [
    "last_ep = None\n",
    "\n",
    "#Function to implement the Q-Learning algorithm\n",
    "def QL_Algo(car, race, alpha = 0.5,discount_factor = 0.9, epsilon = 0.2, episodes = 50000, goals_desired = 10000):\n",
    "    global last_ep\n",
    "\n",
    "    #Initialize Q(S,A)\n",
    "    states = list(itertools.product(range(race.m), range(race.n)))\n",
    "    car.initialize(states,race)\n",
    "\n",
    "    episode_number = 0\n",
    "    goals_crossed = 0\n",
    "\n",
    "\n",
    "    for episode_number in tqdm(range(episodes)):\n",
    "        start_state = race.start()\n",
    "        state = start_state\n",
    "        action = car.get_action(state)\n",
    "        car.update_velocity(action)\n",
    "        reward = race.get_reward(state)\n",
    "        velocity = car.velocity\n",
    "        episode = [(state,action,velocity,reward)]\n",
    "\n",
    "        new_state = race.update_state(state, car.velocity)\n",
    "        hit = hit_obstacle(race, state, new_state)\n",
    "\n",
    "        while (not race.is_terminal(new_state)) and (not hit):\n",
    "            best_action = car.get_best_action(new_state)\n",
    "            x = (state,action)\n",
    "            x_star = (new_state,best_action)\n",
    "            car.q[x] = car.q[x] + alpha*(reward + (discount_factor* car.q[x_star]) - car.q[x])\n",
    "\n",
    "            reward = race.get_reward(new_state)\n",
    "            state = new_state\n",
    "            action = car.get_action(state)\n",
    "            car.update_velocity(action)\n",
    "            velocity = car.velocity\n",
    "\n",
    "            new_state = race.update_state(state, car.velocity)\n",
    "            hit = hit_obstacle(race,state,new_state)\n",
    "            episode.append((state,action,velocity,reward))\n",
    "\n",
    "    #Final Terminal state reward\n",
    "        x = (state,action)\n",
    "        car.q[x] = car.q[x] + alpha*(reward + (discount_factor * race.get_reward(new_state,hit)) - car.q[x])     \n",
    "\n",
    "        car.reset()\n",
    "        if hit == False:\n",
    "            if new_state[0] >= race.m:        #acceleration caused car to go out of track crossing the finish line meanwhile\n",
    "                goals_crossed += 1\n",
    "                last_ep = (episode,new_state)\n",
    "\n",
    "            if (0 <= new_state[0] < race.m) and (0 <= new_state[1] < race.n):\n",
    "                if race.track[new_state[0], new_state[1]] == 3:\n",
    "                    goals_crossed += 1\n",
    "                    last_ep = (episode,new_state)\n",
    "\n",
    "\n",
    "        if goals_crossed >= goals_desired:\n",
    "            print (\"Goals crossed surpassed goals desired to stop. Stopping Learning!\")\n",
    "            break\n",
    "\n",
    "    return goals_crossed"
   ]
  },
  {
   "cell_type": "code",
   "execution_count": 4,
   "id": "6ade16a2",
   "metadata": {},
   "outputs": [],
   "source": [
    "def episode_to_dataframe(episode, end_state, end_reward):\n",
    "    drive = {'Steps': [], 'State': [], 'Action': [], 'Velocity':[], 'Reward':[],}\n",
    "    for i, ep in enumerate(episode):\n",
    "        s, a,v, r = ep\n",
    "        drive['Steps'].append(i+1)\n",
    "        drive['State'].append(s)\n",
    "        drive['Action'].append(a)\n",
    "        drive['Velocity'].append(v)\n",
    "        drive['Reward'].append(r)\n",
    "\n",
    "    drive['Steps'].append(len(episode)+1)\n",
    "    drive['State'].append(end_state)\n",
    "    drive['Action'].append(\"X\")\n",
    "    drive['Velocity'].append(\"X\")\n",
    "    drive['Reward'].append(end_reward)\n",
    "\n",
    "    result = pd.DataFrame(drive)\n",
    "    return result"
   ]
  },
  {
   "cell_type": "markdown",
   "id": "3f228375",
   "metadata": {},
   "source": [
    "## Track-1"
   ]
  },
  {
   "cell_type": "markdown",
   "id": "fef7f94e",
   "metadata": {},
   "source": [
    "Creating the track using Race class from Environment.py"
   ]
  },
  {
   "cell_type": "code",
   "execution_count": 5,
   "id": "81ec67f4",
   "metadata": {},
   "outputs": [
    {
     "data": {
      "image/png": "[encoded data removed]",
      "text/plain": [
       "<Figure size 720x720 with 1 Axes>"
      ]
     },
     "metadata": {},
     "output_type": "display_data"
    }
   ],
   "source": [
    "track1 = Environment.Race('track-1.txt')\n",
    "track1.plot_track()"
   ]
  },
  {
   "cell_type": "markdown",
   "id": "a1a16c8c",
   "metadata": {},
   "source": [
    "Initializing the car using Car class from Agent.py"
   ]
  },
  {
   "cell_type": "code",
   "execution_count": 6,
   "id": "18d7aa46",
   "metadata": {},
   "outputs": [],
   "source": [
    "car = Agent.Car()"
   ]
  },
  {
   "cell_type": "code",
   "execution_count": 7,
   "id": "1e3b0b21",
   "metadata": {},
   "outputs": [
    {
     "name": "stderr",
     "output_type": "stream",
     "text": [
      "100%|█████████████████████████████████████████████████████████████████████| 5000000/5000000 [04:38<00:00, 17957.15it/s]\n"
     ]
    },
    {
     "data": {
      "text/plain": [
       "162"
      ]
     },
     "execution_count": 7,
     "metadata": {},
     "output_type": "execute_result"
    }
   ],
   "source": [
    "QL_Algo(car, track1, alpha = 0.6, epsilon = 0.2, discount_factor = 0.95, episodes = 5000000)"
   ]
  },
  {
   "cell_type": "code",
   "execution_count": 8,
   "id": "e31943f7",
   "metadata": {},
   "outputs": [
    {
     "data": {
      "image/png": "[encoded data removed]",
      "text/plain": [
       "<Figure size 720x720 with 1 Axes>"
      ]
     },
     "metadata": {},
     "output_type": "display_data"
    },
    {
     "data": {
      "text/html": [
       "<div>\n",
       "<style scoped>\n",
       "    .dataframe tbody tr th:only-of-type {\n",
       "        vertical-align: middle;\n",
       "    }\n",
       "\n",
       "    .dataframe tbody tr th {\n",
       "        vertical-align: top;\n",
       "    }\n",
       "\n",
       "    .dataframe thead th {\n",
       "        text-align: right;\n",
       "    }\n",
       "</style>\n",
       "<table border=\"1\" class=\"dataframe\">\n",
       "  <thead>\n",
       "    <tr style=\"text-align: right;\">\n",
       "      <th></th>\n",
       "      <th>Steps</th>\n",
       "      <th>State</th>\n",
       "      <th>Action</th>\n",
       "      <th>Velocity</th>\n",
       "      <th>Reward</th>\n",
       "    </tr>\n",
       "  </thead>\n",
       "  <tbody>\n",
       "    <tr>\n",
       "      <th>0</th>\n",
       "      <td>1</td>\n",
       "      <td>(0, 11)</td>\n",
       "      <td>(1, 1)</td>\n",
       "      <td>(1, 1)</td>\n",
       "      <td>-1</td>\n",
       "    </tr>\n",
       "    <tr>\n",
       "      <th>1</th>\n",
       "      <td>2</td>\n",
       "      <td>(1, 12)</td>\n",
       "      <td>(1, -1)</td>\n",
       "      <td>(2, 0)</td>\n",
       "      <td>-1</td>\n",
       "    </tr>\n",
       "    <tr>\n",
       "      <th>2</th>\n",
       "      <td>3</td>\n",
       "      <td>(3, 12)</td>\n",
       "      <td>(1, -1)</td>\n",
       "      <td>(3, -1)</td>\n",
       "      <td>-1</td>\n",
       "    </tr>\n",
       "    <tr>\n",
       "      <th>3</th>\n",
       "      <td>4</td>\n",
       "      <td>(6, 11)</td>\n",
       "      <td>(-1, -1)</td>\n",
       "      <td>(2, -2)</td>\n",
       "      <td>-1</td>\n",
       "    </tr>\n",
       "    <tr>\n",
       "      <th>4</th>\n",
       "      <td>5</td>\n",
       "      <td>(8, 9)</td>\n",
       "      <td>(-1, 0)</td>\n",
       "      <td>(1, -2)</td>\n",
       "      <td>-1</td>\n",
       "    </tr>\n",
       "    <tr>\n",
       "      <th>5</th>\n",
       "      <td>6</td>\n",
       "      <td>(9, 7)</td>\n",
       "      <td>(0, 0)</td>\n",
       "      <td>(1, -2)</td>\n",
       "      <td>-1</td>\n",
       "    </tr>\n",
       "    <tr>\n",
       "      <th>6</th>\n",
       "      <td>7</td>\n",
       "      <td>(10, 5)</td>\n",
       "      <td>(0, 0)</td>\n",
       "      <td>(1, -2)</td>\n",
       "      <td>-1</td>\n",
       "    </tr>\n",
       "    <tr>\n",
       "      <th>7</th>\n",
       "      <td>8</td>\n",
       "      <td>(11, 3)</td>\n",
       "      <td>(1, 0)</td>\n",
       "      <td>(2, -2)</td>\n",
       "      <td>-1</td>\n",
       "    </tr>\n",
       "    <tr>\n",
       "      <th>8</th>\n",
       "      <td>9</td>\n",
       "      <td>(13, 1)</td>\n",
       "      <td>(1, 1)</td>\n",
       "      <td>(3, -1)</td>\n",
       "      <td>-1</td>\n",
       "    </tr>\n",
       "    <tr>\n",
       "      <th>9</th>\n",
       "      <td>10</td>\n",
       "      <td>(16, 0)</td>\n",
       "      <td>X</td>\n",
       "      <td>X</td>\n",
       "      <td>10</td>\n",
       "    </tr>\n",
       "  </tbody>\n",
       "</table>\n",
       "</div>"
      ],
      "text/plain": [
       "   Steps    State    Action Velocity  Reward\n",
       "0      1  (0, 11)    (1, 1)   (1, 1)      -1\n",
       "1      2  (1, 12)   (1, -1)   (2, 0)      -1\n",
       "2      3  (3, 12)   (1, -1)  (3, -1)      -1\n",
       "3      4  (6, 11)  (-1, -1)  (2, -2)      -1\n",
       "4      5   (8, 9)   (-1, 0)  (1, -2)      -1\n",
       "5      6   (9, 7)    (0, 0)  (1, -2)      -1\n",
       "6      7  (10, 5)    (0, 0)  (1, -2)      -1\n",
       "7      8  (11, 3)    (1, 0)  (2, -2)      -1\n",
       "8      9  (13, 1)    (1, 1)  (3, -1)      -1\n",
       "9     10  (16, 0)         X        X      10"
      ]
     },
     "execution_count": 8,
     "metadata": {},
     "output_type": "execute_result"
    }
   ],
   "source": [
    "episode, end_state = last_ep\n",
    "end_reward = track1.get_reward(end_state)\n",
    "track1.plot_episode(episode, end_state)\n",
    "episode_to_dataframe(episode,end_state,end_reward)"
   ]
  },
  {
   "cell_type": "markdown",
   "id": "8c6a5652",
   "metadata": {},
   "source": [
    "Out of 5M drives only **162** were able to finish the race.\n",
    "\n",
    "So, lets try for other rewards"
   ]
  },
  {
   "cell_type": "code",
   "execution_count": 9,
   "id": "28e19029",
   "metadata": {},
   "outputs": [
    {
     "name": "stderr",
     "output_type": "stream",
     "text": [
      " 56%|███████████████████████████████████████▍                              | 2818764/5000000 [14:24<11:09, 3259.54it/s]"
     ]
    },
    {
     "name": "stdout",
     "output_type": "stream",
     "text": [
      "Goals crossed surpassed goals desired to stop. Stopping Learning!\n"
     ]
    },
    {
     "name": "stderr",
     "output_type": "stream",
     "text": [
      "\n"
     ]
    },
    {
     "data": {
      "text/plain": [
       "10000"
      ]
     },
     "execution_count": 9,
     "metadata": {},
     "output_type": "execute_result"
    }
   ],
   "source": [
    "track1 = Environment.Race('track-1.txt',reward = 25)  #reward is set to 25 (i.e. steeper reward is 25 and penalty is 25)\n",
    "car = Agent.Car()\n",
    "QL_Algo(car, track1, alpha = 0.6, epsilon = 0.2, discount_factor = 0.95, episodes = 5000000)"
   ]
  },
  {
   "cell_type": "code",
   "execution_count": 10,
   "id": "ddf6aa5b",
   "metadata": {},
   "outputs": [
    {
     "data": {
      "image/png": "[encoded data removed]",
      "text/plain": [
       "<Figure size 720x720 with 1 Axes>"
      ]
     },
     "metadata": {},
     "output_type": "display_data"
    },
    {
     "data": {
      "text/html": [
       "<div>\n",
       "<style scoped>\n",
       "    .dataframe tbody tr th:only-of-type {\n",
       "        vertical-align: middle;\n",
       "    }\n",
       "\n",
       "    .dataframe tbody tr th {\n",
       "        vertical-align: top;\n",
       "    }\n",
       "\n",
       "    .dataframe thead th {\n",
       "        text-align: right;\n",
       "    }\n",
       "</style>\n",
       "<table border=\"1\" class=\"dataframe\">\n",
       "  <thead>\n",
       "    <tr style=\"text-align: right;\">\n",
       "      <th></th>\n",
       "      <th>Steps</th>\n",
       "      <th>State</th>\n",
       "      <th>Action</th>\n",
       "      <th>Velocity</th>\n",
       "      <th>Reward</th>\n",
       "    </tr>\n",
       "  </thead>\n",
       "  <tbody>\n",
       "    <tr>\n",
       "      <th>0</th>\n",
       "      <td>1</td>\n",
       "      <td>(0, 3)</td>\n",
       "      <td>(1, -1)</td>\n",
       "      <td>(1, -1)</td>\n",
       "      <td>-1</td>\n",
       "    </tr>\n",
       "    <tr>\n",
       "      <th>1</th>\n",
       "      <td>2</td>\n",
       "      <td>(1, 2)</td>\n",
       "      <td>(1, 1)</td>\n",
       "      <td>(2, 0)</td>\n",
       "      <td>-1</td>\n",
       "    </tr>\n",
       "    <tr>\n",
       "      <th>2</th>\n",
       "      <td>3</td>\n",
       "      <td>(3, 2)</td>\n",
       "      <td>(1, 1)</td>\n",
       "      <td>(3, 1)</td>\n",
       "      <td>-1</td>\n",
       "    </tr>\n",
       "    <tr>\n",
       "      <th>3</th>\n",
       "      <td>4</td>\n",
       "      <td>(6, 3)</td>\n",
       "      <td>(-1, 1)</td>\n",
       "      <td>(2, 2)</td>\n",
       "      <td>-1</td>\n",
       "    </tr>\n",
       "    <tr>\n",
       "      <th>4</th>\n",
       "      <td>5</td>\n",
       "      <td>(8, 5)</td>\n",
       "      <td>(-1, 0)</td>\n",
       "      <td>(1, 2)</td>\n",
       "      <td>-1</td>\n",
       "    </tr>\n",
       "    <tr>\n",
       "      <th>5</th>\n",
       "      <td>6</td>\n",
       "      <td>(9, 7)</td>\n",
       "      <td>(0, 0)</td>\n",
       "      <td>(1, 2)</td>\n",
       "      <td>-1</td>\n",
       "    </tr>\n",
       "    <tr>\n",
       "      <th>6</th>\n",
       "      <td>7</td>\n",
       "      <td>(10, 9)</td>\n",
       "      <td>(1, 0)</td>\n",
       "      <td>(2, 2)</td>\n",
       "      <td>-1</td>\n",
       "    </tr>\n",
       "    <tr>\n",
       "      <th>7</th>\n",
       "      <td>8</td>\n",
       "      <td>(12, 11)</td>\n",
       "      <td>(1, 0)</td>\n",
       "      <td>(3, 2)</td>\n",
       "      <td>-1</td>\n",
       "    </tr>\n",
       "    <tr>\n",
       "      <th>8</th>\n",
       "      <td>9</td>\n",
       "      <td>(15, 13)</td>\n",
       "      <td>(1, -1)</td>\n",
       "      <td>(4, 1)</td>\n",
       "      <td>-1</td>\n",
       "    </tr>\n",
       "    <tr>\n",
       "      <th>9</th>\n",
       "      <td>10</td>\n",
       "      <td>(19, 14)</td>\n",
       "      <td>X</td>\n",
       "      <td>X</td>\n",
       "      <td>25</td>\n",
       "    </tr>\n",
       "  </tbody>\n",
       "</table>\n",
       "</div>"
      ],
      "text/plain": [
       "   Steps     State   Action Velocity  Reward\n",
       "0      1    (0, 3)  (1, -1)  (1, -1)      -1\n",
       "1      2    (1, 2)   (1, 1)   (2, 0)      -1\n",
       "2      3    (3, 2)   (1, 1)   (3, 1)      -1\n",
       "3      4    (6, 3)  (-1, 1)   (2, 2)      -1\n",
       "4      5    (8, 5)  (-1, 0)   (1, 2)      -1\n",
       "5      6    (9, 7)   (0, 0)   (1, 2)      -1\n",
       "6      7   (10, 9)   (1, 0)   (2, 2)      -1\n",
       "7      8  (12, 11)   (1, 0)   (3, 2)      -1\n",
       "8      9  (15, 13)  (1, -1)   (4, 1)      -1\n",
       "9     10  (19, 14)        X        X      25"
      ]
     },
     "execution_count": 10,
     "metadata": {},
     "output_type": "execute_result"
    }
   ],
   "source": [
    "episode, end_state = last_ep\n",
    "end_reward = track1.get_reward(end_state)\n",
    "track1.plot_episode(episode, end_state)\n",
    "episode_to_dataframe(episode,end_state,end_reward)"
   ]
  },
  {
   "cell_type": "markdown",
   "id": "30b9de32",
   "metadata": {},
   "source": [
    "We can see than it covers more number of drives (infact **10000** which we want) which were able to finish the race.\n",
    "\n",
    "So, for reward = 25 the algorithm will finish faster."
   ]
  },
  {
   "cell_type": "markdown",
   "id": "b8518678",
   "metadata": {},
   "source": [
    "## Track-2"
   ]
  },
  {
   "cell_type": "code",
   "execution_count": 11,
   "id": "7124e792",
   "metadata": {},
   "outputs": [
    {
     "data": {
      "image/png": "[encoded data removed]",
      "text/plain": [
       "<Figure size 720x720 with 1 Axes>"
      ]
     },
     "metadata": {},
     "output_type": "display_data"
    }
   ],
   "source": [
    "track2 = Environment.Race('track-2.txt')\n",
    "track2.plot_track()"
   ]
  },
  {
   "cell_type": "code",
   "execution_count": 12,
   "id": "c4b1ab4e",
   "metadata": {},
   "outputs": [
    {
     "name": "stderr",
     "output_type": "stream",
     "text": [
      "100%|█████████████████████████████████████████████████████████████████████| 5000000/5000000 [04:22<00:00, 19020.94it/s]\n"
     ]
    },
    {
     "data": {
      "text/plain": [
       "6"
      ]
     },
     "execution_count": 12,
     "metadata": {},
     "output_type": "execute_result"
    }
   ],
   "source": [
    "car = Agent.Car()\n",
    "QL_Algo(car, track2, alpha = 0.6, epsilon = 0.2, discount_factor = 0.95, episodes = 5000000)"
   ]
  },
  {
   "cell_type": "code",
   "execution_count": 13,
   "id": "2ef85c9f",
   "metadata": {},
   "outputs": [
    {
     "data": {
      "image/png": "[encoded data removed]",
      "text/plain": [
       "<Figure size 720x720 with 1 Axes>"
      ]
     },
     "metadata": {},
     "output_type": "display_data"
    },
    {
     "data": {
      "text/html": [
       "<div>\n",
       "<style scoped>\n",
       "    .dataframe tbody tr th:only-of-type {\n",
       "        vertical-align: middle;\n",
       "    }\n",
       "\n",
       "    .dataframe tbody tr th {\n",
       "        vertical-align: top;\n",
       "    }\n",
       "\n",
       "    .dataframe thead th {\n",
       "        text-align: right;\n",
       "    }\n",
       "</style>\n",
       "<table border=\"1\" class=\"dataframe\">\n",
       "  <thead>\n",
       "    <tr style=\"text-align: right;\">\n",
       "      <th></th>\n",
       "      <th>Steps</th>\n",
       "      <th>State</th>\n",
       "      <th>Action</th>\n",
       "      <th>Velocity</th>\n",
       "      <th>Reward</th>\n",
       "    </tr>\n",
       "  </thead>\n",
       "  <tbody>\n",
       "    <tr>\n",
       "      <th>0</th>\n",
       "      <td>1</td>\n",
       "      <td>(0, 4)</td>\n",
       "      <td>(1, -1)</td>\n",
       "      <td>(1, -1)</td>\n",
       "      <td>-1</td>\n",
       "    </tr>\n",
       "    <tr>\n",
       "      <th>1</th>\n",
       "      <td>2</td>\n",
       "      <td>(1, 3)</td>\n",
       "      <td>(1, 1)</td>\n",
       "      <td>(2, 0)</td>\n",
       "      <td>-1</td>\n",
       "    </tr>\n",
       "    <tr>\n",
       "      <th>2</th>\n",
       "      <td>3</td>\n",
       "      <td>(3, 3)</td>\n",
       "      <td>(1, 0)</td>\n",
       "      <td>(3, 0)</td>\n",
       "      <td>-1</td>\n",
       "    </tr>\n",
       "    <tr>\n",
       "      <th>3</th>\n",
       "      <td>4</td>\n",
       "      <td>(6, 3)</td>\n",
       "      <td>(0, 0)</td>\n",
       "      <td>(3, 0)</td>\n",
       "      <td>-1</td>\n",
       "    </tr>\n",
       "    <tr>\n",
       "      <th>4</th>\n",
       "      <td>5</td>\n",
       "      <td>(9, 3)</td>\n",
       "      <td>(-1, 1)</td>\n",
       "      <td>(2, 1)</td>\n",
       "      <td>-1</td>\n",
       "    </tr>\n",
       "    <tr>\n",
       "      <th>5</th>\n",
       "      <td>6</td>\n",
       "      <td>(11, 4)</td>\n",
       "      <td>(-1, 1)</td>\n",
       "      <td>(1, 2)</td>\n",
       "      <td>-1</td>\n",
       "    </tr>\n",
       "    <tr>\n",
       "      <th>6</th>\n",
       "      <td>7</td>\n",
       "      <td>(12, 6)</td>\n",
       "      <td>(-1, 0)</td>\n",
       "      <td>(0, 2)</td>\n",
       "      <td>-1</td>\n",
       "    </tr>\n",
       "    <tr>\n",
       "      <th>7</th>\n",
       "      <td>8</td>\n",
       "      <td>(12, 8)</td>\n",
       "      <td>(-1, -1)</td>\n",
       "      <td>(-1, 1)</td>\n",
       "      <td>-1</td>\n",
       "    </tr>\n",
       "    <tr>\n",
       "      <th>8</th>\n",
       "      <td>9</td>\n",
       "      <td>(11, 9)</td>\n",
       "      <td>(0, -1)</td>\n",
       "      <td>(-1, 0)</td>\n",
       "      <td>-1</td>\n",
       "    </tr>\n",
       "    <tr>\n",
       "      <th>9</th>\n",
       "      <td>10</td>\n",
       "      <td>(10, 9)</td>\n",
       "      <td>(-1, 0)</td>\n",
       "      <td>(-2, 0)</td>\n",
       "      <td>-1</td>\n",
       "    </tr>\n",
       "    <tr>\n",
       "      <th>10</th>\n",
       "      <td>11</td>\n",
       "      <td>(8, 9)</td>\n",
       "      <td>(1, 1)</td>\n",
       "      <td>(-1, 1)</td>\n",
       "      <td>-1</td>\n",
       "    </tr>\n",
       "    <tr>\n",
       "      <th>11</th>\n",
       "      <td>12</td>\n",
       "      <td>(7, 10)</td>\n",
       "      <td>(1, 0)</td>\n",
       "      <td>(0, 1)</td>\n",
       "      <td>-1</td>\n",
       "    </tr>\n",
       "    <tr>\n",
       "      <th>12</th>\n",
       "      <td>13</td>\n",
       "      <td>(7, 11)</td>\n",
       "      <td>(1, 0)</td>\n",
       "      <td>(1, 1)</td>\n",
       "      <td>-1</td>\n",
       "    </tr>\n",
       "    <tr>\n",
       "      <th>13</th>\n",
       "      <td>14</td>\n",
       "      <td>(8, 12)</td>\n",
       "      <td>(0, 0)</td>\n",
       "      <td>(1, 1)</td>\n",
       "      <td>-1</td>\n",
       "    </tr>\n",
       "    <tr>\n",
       "      <th>14</th>\n",
       "      <td>15</td>\n",
       "      <td>(9, 13)</td>\n",
       "      <td>(1, -1)</td>\n",
       "      <td>(2, 0)</td>\n",
       "      <td>-1</td>\n",
       "    </tr>\n",
       "    <tr>\n",
       "      <th>15</th>\n",
       "      <td>16</td>\n",
       "      <td>(11, 13)</td>\n",
       "      <td>(-1, -1)</td>\n",
       "      <td>(1, -1)</td>\n",
       "      <td>-1</td>\n",
       "    </tr>\n",
       "    <tr>\n",
       "      <th>16</th>\n",
       "      <td>17</td>\n",
       "      <td>(12, 12)</td>\n",
       "      <td>(1, 1)</td>\n",
       "      <td>(2, 0)</td>\n",
       "      <td>-1</td>\n",
       "    </tr>\n",
       "    <tr>\n",
       "      <th>17</th>\n",
       "      <td>18</td>\n",
       "      <td>(14, 12)</td>\n",
       "      <td>(1, -1)</td>\n",
       "      <td>(3, -1)</td>\n",
       "      <td>-1</td>\n",
       "    </tr>\n",
       "    <tr>\n",
       "      <th>18</th>\n",
       "      <td>19</td>\n",
       "      <td>(17, 11)</td>\n",
       "      <td>X</td>\n",
       "      <td>X</td>\n",
       "      <td>10</td>\n",
       "    </tr>\n",
       "  </tbody>\n",
       "</table>\n",
       "</div>"
      ],
      "text/plain": [
       "    Steps     State    Action Velocity  Reward\n",
       "0       1    (0, 4)   (1, -1)  (1, -1)      -1\n",
       "1       2    (1, 3)    (1, 1)   (2, 0)      -1\n",
       "2       3    (3, 3)    (1, 0)   (3, 0)      -1\n",
       "3       4    (6, 3)    (0, 0)   (3, 0)      -1\n",
       "4       5    (9, 3)   (-1, 1)   (2, 1)      -1\n",
       "5       6   (11, 4)   (-1, 1)   (1, 2)      -1\n",
       "6       7   (12, 6)   (-1, 0)   (0, 2)      -1\n",
       "7       8   (12, 8)  (-1, -1)  (-1, 1)      -1\n",
       "8       9   (11, 9)   (0, -1)  (-1, 0)      -1\n",
       "9      10   (10, 9)   (-1, 0)  (-2, 0)      -1\n",
       "10     11    (8, 9)    (1, 1)  (-1, 1)      -1\n",
       "11     12   (7, 10)    (1, 0)   (0, 1)      -1\n",
       "12     13   (7, 11)    (1, 0)   (1, 1)      -1\n",
       "13     14   (8, 12)    (0, 0)   (1, 1)      -1\n",
       "14     15   (9, 13)   (1, -1)   (2, 0)      -1\n",
       "15     16  (11, 13)  (-1, -1)  (1, -1)      -1\n",
       "16     17  (12, 12)    (1, 1)   (2, 0)      -1\n",
       "17     18  (14, 12)   (1, -1)  (3, -1)      -1\n",
       "18     19  (17, 11)         X        X      10"
      ]
     },
     "execution_count": 13,
     "metadata": {},
     "output_type": "execute_result"
    }
   ],
   "source": [
    "episode, end_state = last_ep\n",
    "end_reward = track2.get_reward(end_state)\n",
    "track2.plot_episode(episode, end_state)\n",
    "episode_to_dataframe(episode,end_state,end_reward)"
   ]
  },
  {
   "cell_type": "markdown",
   "id": "4a4de77f",
   "metadata": {},
   "source": [
    "Out of 5M drives only **6** were able to finish the race.\n",
    "\n",
    "So, lets try for other rewards"
   ]
  },
  {
   "cell_type": "code",
   "execution_count": 14,
   "id": "ea881b2f",
   "metadata": {},
   "outputs": [
    {
     "name": "stderr",
     "output_type": "stream",
     "text": [
      "100%|██████████████████████████████████████████████████████████████████████| 5000000/5000000 [26:16<00:00, 3171.94it/s]\n"
     ]
    },
    {
     "data": {
      "text/plain": [
       "5609"
      ]
     },
     "execution_count": 14,
     "metadata": {},
     "output_type": "execute_result"
    }
   ],
   "source": [
    "track2 = Environment.Race('track-2.txt',reward = 30) #reward is set to 30 (i.e. steeper reward is 30 and penalty is 30)\n",
    "car = Agent.Car()\n",
    "QL_Algo(car, track2, alpha = 0.6, epsilon = 0.2, discount_factor = 0.95, episodes = 5000000)"
   ]
  },
  {
   "cell_type": "code",
   "execution_count": 15,
   "id": "0ab18f4d",
   "metadata": {},
   "outputs": [
    {
     "data": {
      "image/png": "[encoded data removed]",
      "text/plain": [
       "<Figure size 720x720 with 1 Axes>"
      ]
     },
     "metadata": {},
     "output_type": "display_data"
    },
    {
     "data": {
      "text/html": [
       "<div>\n",
       "<style scoped>\n",
       "    .dataframe tbody tr th:only-of-type {\n",
       "        vertical-align: middle;\n",
       "    }\n",
       "\n",
       "    .dataframe tbody tr th {\n",
       "        vertical-align: top;\n",
       "    }\n",
       "\n",
       "    .dataframe thead th {\n",
       "        text-align: right;\n",
       "    }\n",
       "</style>\n",
       "<table border=\"1\" class=\"dataframe\">\n",
       "  <thead>\n",
       "    <tr style=\"text-align: right;\">\n",
       "      <th></th>\n",
       "      <th>Steps</th>\n",
       "      <th>State</th>\n",
       "      <th>Action</th>\n",
       "      <th>Velocity</th>\n",
       "      <th>Reward</th>\n",
       "    </tr>\n",
       "  </thead>\n",
       "  <tbody>\n",
       "    <tr>\n",
       "      <th>0</th>\n",
       "      <td>1</td>\n",
       "      <td>(0, 1)</td>\n",
       "      <td>(1, 0)</td>\n",
       "      <td>(1, 0)</td>\n",
       "      <td>-1</td>\n",
       "    </tr>\n",
       "    <tr>\n",
       "      <th>1</th>\n",
       "      <td>2</td>\n",
       "      <td>(1, 1)</td>\n",
       "      <td>(1, 1)</td>\n",
       "      <td>(2, 1)</td>\n",
       "      <td>-1</td>\n",
       "    </tr>\n",
       "    <tr>\n",
       "      <th>2</th>\n",
       "      <td>3</td>\n",
       "      <td>(3, 2)</td>\n",
       "      <td>(1, 0)</td>\n",
       "      <td>(3, 1)</td>\n",
       "      <td>-1</td>\n",
       "    </tr>\n",
       "    <tr>\n",
       "      <th>3</th>\n",
       "      <td>4</td>\n",
       "      <td>(6, 3)</td>\n",
       "      <td>(-1, -1)</td>\n",
       "      <td>(2, 0)</td>\n",
       "      <td>-1</td>\n",
       "    </tr>\n",
       "    <tr>\n",
       "      <th>4</th>\n",
       "      <td>5</td>\n",
       "      <td>(8, 3)</td>\n",
       "      <td>(0, -1)</td>\n",
       "      <td>(2, -1)</td>\n",
       "      <td>-1</td>\n",
       "    </tr>\n",
       "    <tr>\n",
       "      <th>5</th>\n",
       "      <td>6</td>\n",
       "      <td>(10, 2)</td>\n",
       "      <td>(-1, 1)</td>\n",
       "      <td>(1, 0)</td>\n",
       "      <td>-1</td>\n",
       "    </tr>\n",
       "    <tr>\n",
       "      <th>6</th>\n",
       "      <td>7</td>\n",
       "      <td>(11, 2)</td>\n",
       "      <td>(-1, 1)</td>\n",
       "      <td>(0, 1)</td>\n",
       "      <td>-1</td>\n",
       "    </tr>\n",
       "    <tr>\n",
       "      <th>7</th>\n",
       "      <td>8</td>\n",
       "      <td>(11, 3)</td>\n",
       "      <td>(0, 1)</td>\n",
       "      <td>(0, 2)</td>\n",
       "      <td>-1</td>\n",
       "    </tr>\n",
       "    <tr>\n",
       "      <th>8</th>\n",
       "      <td>9</td>\n",
       "      <td>(11, 5)</td>\n",
       "      <td>(-1, 0)</td>\n",
       "      <td>(-1, 2)</td>\n",
       "      <td>-1</td>\n",
       "    </tr>\n",
       "    <tr>\n",
       "      <th>9</th>\n",
       "      <td>10</td>\n",
       "      <td>(10, 7)</td>\n",
       "      <td>(-1, -1)</td>\n",
       "      <td>(-2, 1)</td>\n",
       "      <td>-1</td>\n",
       "    </tr>\n",
       "    <tr>\n",
       "      <th>10</th>\n",
       "      <td>11</td>\n",
       "      <td>(8, 8)</td>\n",
       "      <td>(1, 0)</td>\n",
       "      <td>(-1, 1)</td>\n",
       "      <td>-1</td>\n",
       "    </tr>\n",
       "    <tr>\n",
       "      <th>11</th>\n",
       "      <td>12</td>\n",
       "      <td>(7, 9)</td>\n",
       "      <td>(1, 1)</td>\n",
       "      <td>(0, 2)</td>\n",
       "      <td>-1</td>\n",
       "    </tr>\n",
       "    <tr>\n",
       "      <th>12</th>\n",
       "      <td>13</td>\n",
       "      <td>(7, 11)</td>\n",
       "      <td>(1, -1)</td>\n",
       "      <td>(1, 1)</td>\n",
       "      <td>-1</td>\n",
       "    </tr>\n",
       "    <tr>\n",
       "      <th>13</th>\n",
       "      <td>14</td>\n",
       "      <td>(8, 12)</td>\n",
       "      <td>(1, -1)</td>\n",
       "      <td>(2, 0)</td>\n",
       "      <td>-1</td>\n",
       "    </tr>\n",
       "    <tr>\n",
       "      <th>14</th>\n",
       "      <td>15</td>\n",
       "      <td>(10, 12)</td>\n",
       "      <td>(1, 0)</td>\n",
       "      <td>(3, 0)</td>\n",
       "      <td>-1</td>\n",
       "    </tr>\n",
       "    <tr>\n",
       "      <th>15</th>\n",
       "      <td>16</td>\n",
       "      <td>(13, 12)</td>\n",
       "      <td>(1, 1)</td>\n",
       "      <td>(4, 1)</td>\n",
       "      <td>-1</td>\n",
       "    </tr>\n",
       "    <tr>\n",
       "      <th>16</th>\n",
       "      <td>17</td>\n",
       "      <td>(17, 13)</td>\n",
       "      <td>X</td>\n",
       "      <td>X</td>\n",
       "      <td>30</td>\n",
       "    </tr>\n",
       "  </tbody>\n",
       "</table>\n",
       "</div>"
      ],
      "text/plain": [
       "    Steps     State    Action Velocity  Reward\n",
       "0       1    (0, 1)    (1, 0)   (1, 0)      -1\n",
       "1       2    (1, 1)    (1, 1)   (2, 1)      -1\n",
       "2       3    (3, 2)    (1, 0)   (3, 1)      -1\n",
       "3       4    (6, 3)  (-1, -1)   (2, 0)      -1\n",
       "4       5    (8, 3)   (0, -1)  (2, -1)      -1\n",
       "5       6   (10, 2)   (-1, 1)   (1, 0)      -1\n",
       "6       7   (11, 2)   (-1, 1)   (0, 1)      -1\n",
       "7       8   (11, 3)    (0, 1)   (0, 2)      -1\n",
       "8       9   (11, 5)   (-1, 0)  (-1, 2)      -1\n",
       "9      10   (10, 7)  (-1, -1)  (-2, 1)      -1\n",
       "10     11    (8, 8)    (1, 0)  (-1, 1)      -1\n",
       "11     12    (7, 9)    (1, 1)   (0, 2)      -1\n",
       "12     13   (7, 11)   (1, -1)   (1, 1)      -1\n",
       "13     14   (8, 12)   (1, -1)   (2, 0)      -1\n",
       "14     15  (10, 12)    (1, 0)   (3, 0)      -1\n",
       "15     16  (13, 12)    (1, 1)   (4, 1)      -1\n",
       "16     17  (17, 13)         X        X      30"
      ]
     },
     "execution_count": 15,
     "metadata": {},
     "output_type": "execute_result"
    }
   ],
   "source": [
    "episode, end_state = last_ep\n",
    "end_reward = track2.get_reward(end_state)\n",
    "track2.plot_episode(episode, end_state)\n",
    "episode_to_dataframe(episode,end_state,end_reward)"
   ]
  },
  {
   "cell_type": "markdown",
   "id": "e36197a5",
   "metadata": {},
   "source": [
    "We can see than it covers more number of drives which were able to finish the race.\n",
    "\n",
    "So, for reward = 30 the algorithm will finish faster."
   ]
  },
  {
   "cell_type": "markdown",
   "id": "1d7b5821",
   "metadata": {},
   "source": [
    "## Own Track"
   ]
  },
  {
   "cell_type": "code",
   "execution_count": 16,
   "id": "0c87ec60",
   "metadata": {},
   "outputs": [
    {
     "data": {
      "image/png": "[encoded data removed]",
      "text/plain": [
       "<Figure size 720x720 with 1 Axes>"
      ]
     },
     "metadata": {},
     "output_type": "display_data"
    }
   ],
   "source": [
    "own_track = Environment.Race('track-own.txt')\n",
    "own_track.plot_track()\n",
    "car = Agent.Car()"
   ]
  },
  {
   "cell_type": "code",
   "execution_count": 17,
   "id": "b03c4dc1",
   "metadata": {},
   "outputs": [
    {
     "name": "stderr",
     "output_type": "stream",
     "text": [
      " 57%|███████████████████████████████████████                              | 2829569/5000000 [02:45<02:07, 17073.01it/s]"
     ]
    },
    {
     "name": "stdout",
     "output_type": "stream",
     "text": [
      "Goals crossed surpassed goals desired to stop. Stopping Learning!\n"
     ]
    },
    {
     "name": "stderr",
     "output_type": "stream",
     "text": [
      "\n"
     ]
    },
    {
     "data": {
      "text/plain": [
       "10000"
      ]
     },
     "execution_count": 17,
     "metadata": {},
     "output_type": "execute_result"
    }
   ],
   "source": [
    "QL_Algo(car, own_track, alpha = 0.6, epsilon = 0.2, discount_factor = 0.95, episodes = 5000000)"
   ]
  },
  {
   "cell_type": "code",
   "execution_count": 18,
   "id": "4d601cd9",
   "metadata": {},
   "outputs": [
    {
     "data": {
      "image/png": "[encoded data removed]",
      "text/plain": [
       "<Figure size 720x720 with 1 Axes>"
      ]
     },
     "metadata": {},
     "output_type": "display_data"
    },
    {
     "data": {
      "text/html": [
       "<div>\n",
       "<style scoped>\n",
       "    .dataframe tbody tr th:only-of-type {\n",
       "        vertical-align: middle;\n",
       "    }\n",
       "\n",
       "    .dataframe tbody tr th {\n",
       "        vertical-align: top;\n",
       "    }\n",
       "\n",
       "    .dataframe thead th {\n",
       "        text-align: right;\n",
       "    }\n",
       "</style>\n",
       "<table border=\"1\" class=\"dataframe\">\n",
       "  <thead>\n",
       "    <tr style=\"text-align: right;\">\n",
       "      <th></th>\n",
       "      <th>Steps</th>\n",
       "      <th>State</th>\n",
       "      <th>Action</th>\n",
       "      <th>Velocity</th>\n",
       "      <th>Reward</th>\n",
       "    </tr>\n",
       "  </thead>\n",
       "  <tbody>\n",
       "    <tr>\n",
       "      <th>0</th>\n",
       "      <td>1</td>\n",
       "      <td>(0, 7)</td>\n",
       "      <td>(1, 0)</td>\n",
       "      <td>(1, 0)</td>\n",
       "      <td>-1</td>\n",
       "    </tr>\n",
       "    <tr>\n",
       "      <th>1</th>\n",
       "      <td>2</td>\n",
       "      <td>(1, 7)</td>\n",
       "      <td>(1, 0)</td>\n",
       "      <td>(2, 0)</td>\n",
       "      <td>-1</td>\n",
       "    </tr>\n",
       "    <tr>\n",
       "      <th>2</th>\n",
       "      <td>3</td>\n",
       "      <td>(3, 7)</td>\n",
       "      <td>(0, 0)</td>\n",
       "      <td>(2, 0)</td>\n",
       "      <td>-1</td>\n",
       "    </tr>\n",
       "    <tr>\n",
       "      <th>3</th>\n",
       "      <td>4</td>\n",
       "      <td>(5, 7)</td>\n",
       "      <td>(0, 0)</td>\n",
       "      <td>(2, 0)</td>\n",
       "      <td>-1</td>\n",
       "    </tr>\n",
       "    <tr>\n",
       "      <th>4</th>\n",
       "      <td>5</td>\n",
       "      <td>(7, 7)</td>\n",
       "      <td>(-1, 0)</td>\n",
       "      <td>(1, 0)</td>\n",
       "      <td>-1</td>\n",
       "    </tr>\n",
       "    <tr>\n",
       "      <th>5</th>\n",
       "      <td>6</td>\n",
       "      <td>(8, 7)</td>\n",
       "      <td>(-1, -1)</td>\n",
       "      <td>(0, -1)</td>\n",
       "      <td>-1</td>\n",
       "    </tr>\n",
       "    <tr>\n",
       "      <th>6</th>\n",
       "      <td>7</td>\n",
       "      <td>(8, 6)</td>\n",
       "      <td>(1, -1)</td>\n",
       "      <td>(1, -2)</td>\n",
       "      <td>-1</td>\n",
       "    </tr>\n",
       "    <tr>\n",
       "      <th>7</th>\n",
       "      <td>8</td>\n",
       "      <td>(9, 4)</td>\n",
       "      <td>(1, 1)</td>\n",
       "      <td>(2, -1)</td>\n",
       "      <td>-1</td>\n",
       "    </tr>\n",
       "    <tr>\n",
       "      <th>8</th>\n",
       "      <td>9</td>\n",
       "      <td>(11, 3)</td>\n",
       "      <td>(1, 0)</td>\n",
       "      <td>(3, -1)</td>\n",
       "      <td>-1</td>\n",
       "    </tr>\n",
       "    <tr>\n",
       "      <th>9</th>\n",
       "      <td>10</td>\n",
       "      <td>(14, 2)</td>\n",
       "      <td>(1, 1)</td>\n",
       "      <td>(4, 0)</td>\n",
       "      <td>-1</td>\n",
       "    </tr>\n",
       "    <tr>\n",
       "      <th>10</th>\n",
       "      <td>11</td>\n",
       "      <td>(18, 2)</td>\n",
       "      <td>X</td>\n",
       "      <td>X</td>\n",
       "      <td>10</td>\n",
       "    </tr>\n",
       "  </tbody>\n",
       "</table>\n",
       "</div>"
      ],
      "text/plain": [
       "    Steps    State    Action Velocity  Reward\n",
       "0       1   (0, 7)    (1, 0)   (1, 0)      -1\n",
       "1       2   (1, 7)    (1, 0)   (2, 0)      -1\n",
       "2       3   (3, 7)    (0, 0)   (2, 0)      -1\n",
       "3       4   (5, 7)    (0, 0)   (2, 0)      -1\n",
       "4       5   (7, 7)   (-1, 0)   (1, 0)      -1\n",
       "5       6   (8, 7)  (-1, -1)  (0, -1)      -1\n",
       "6       7   (8, 6)   (1, -1)  (1, -2)      -1\n",
       "7       8   (9, 4)    (1, 1)  (2, -1)      -1\n",
       "8       9  (11, 3)    (1, 0)  (3, -1)      -1\n",
       "9      10  (14, 2)    (1, 1)   (4, 0)      -1\n",
       "10     11  (18, 2)         X        X      10"
      ]
     },
     "execution_count": 18,
     "metadata": {},
     "output_type": "execute_result"
    }
   ],
   "source": [
    "episode, end_state = last_ep\n",
    "end_reward = own_track.get_reward(end_state)\n",
    "own_track.plot_episode(episode, end_state)\n",
    "episode_to_dataframe(episode,end_state,end_reward)"
   ]
  },
  {
   "cell_type": "markdown",
   "id": "b69ffd48",
   "metadata": {},
   "source": [
    "**10000** drives finished without hitting. So, reward 10 will work here."
   ]
  }
 ],
 "metadata": {
  "kernelspec": {
   "display_name": "Python 3",
   "language": "python",
   "name": "python3"
  },
  "language_info": {
   "codemirror_mode": {
    "name": "ipython",
    "version": 3
   },
   "file_extension": ".py",
   "mimetype": "text/x-python",
   "name": "python",
   "nbconvert_exporter": "python",
   "pygments_lexer": "ipython3",
   "version": "3.8.8"
  }
 },
 "nbformat": 4,
 "nbformat_minor": 5
}
